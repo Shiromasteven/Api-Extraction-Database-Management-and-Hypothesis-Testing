{
 "cells": [
  {
   "cell_type": "code",
   "execution_count": 59,
   "id": "e66eed36",
   "metadata": {},
   "outputs": [],
   "source": [
    "import pandas as pd\n",
    "import seaborn as sns\n",
    "import matplotlib.pyplot as plt\n",
    "\n",
    "tmdb_data_2000 = pd.read_csv(\"Data/final_tmdb_data_2000.csv.gz\", low_memory = False)\n",
    "tmdb_data_2001 = pd.read_csv(\"Data/final_tmdb_data_2001.csv.gz\", low_memory = False)"
   ]
  },
  {
   "cell_type": "code",
   "execution_count": 60,
   "id": "acf75059",
   "metadata": {},
   "outputs": [
    {
     "data": {
      "text/html": [
       "<div>\n",
       "<style scoped>\n",
       "    .dataframe tbody tr th:only-of-type {\n",
       "        vertical-align: middle;\n",
       "    }\n",
       "\n",
       "    .dataframe tbody tr th {\n",
       "        vertical-align: top;\n",
       "    }\n",
       "\n",
       "    .dataframe thead th {\n",
       "        text-align: right;\n",
       "    }\n",
       "</style>\n",
       "<table border=\"1\" class=\"dataframe\">\n",
       "  <thead>\n",
       "    <tr style=\"text-align: right;\">\n",
       "      <th></th>\n",
       "      <th>imdb_id</th>\n",
       "      <th>adult</th>\n",
       "      <th>backdrop_path</th>\n",
       "      <th>belongs_to_collection</th>\n",
       "      <th>budget</th>\n",
       "      <th>genres</th>\n",
       "      <th>homepage</th>\n",
       "      <th>id</th>\n",
       "      <th>original_language</th>\n",
       "      <th>original_title</th>\n",
       "      <th>...</th>\n",
       "      <th>revenue</th>\n",
       "      <th>runtime</th>\n",
       "      <th>spoken_languages</th>\n",
       "      <th>status</th>\n",
       "      <th>tagline</th>\n",
       "      <th>title</th>\n",
       "      <th>video</th>\n",
       "      <th>vote_average</th>\n",
       "      <th>vote_count</th>\n",
       "      <th>certification</th>\n",
       "    </tr>\n",
       "  </thead>\n",
       "  <tbody>\n",
       "    <tr>\n",
       "      <th>0</th>\n",
       "      <td>0</td>\n",
       "      <td>NaN</td>\n",
       "      <td>NaN</td>\n",
       "      <td>NaN</td>\n",
       "      <td>NaN</td>\n",
       "      <td>NaN</td>\n",
       "      <td>NaN</td>\n",
       "      <td>NaN</td>\n",
       "      <td>NaN</td>\n",
       "      <td>NaN</td>\n",
       "      <td>...</td>\n",
       "      <td>NaN</td>\n",
       "      <td>NaN</td>\n",
       "      <td>NaN</td>\n",
       "      <td>NaN</td>\n",
       "      <td>NaN</td>\n",
       "      <td>NaN</td>\n",
       "      <td>NaN</td>\n",
       "      <td>NaN</td>\n",
       "      <td>NaN</td>\n",
       "      <td>NaN</td>\n",
       "    </tr>\n",
       "    <tr>\n",
       "      <th>1</th>\n",
       "      <td>tt0113026</td>\n",
       "      <td>0.0</td>\n",
       "      <td>/vMFs7nw6P0bIV1jDsQpxAieAVnH.jpg</td>\n",
       "      <td>NaN</td>\n",
       "      <td>10000000.0</td>\n",
       "      <td>[{'id': 35, 'name': 'Comedy'}, {'id': 10402, '...</td>\n",
       "      <td>NaN</td>\n",
       "      <td>62127.0</td>\n",
       "      <td>en</td>\n",
       "      <td>The Fantasticks</td>\n",
       "      <td>...</td>\n",
       "      <td>0.0</td>\n",
       "      <td>86.0</td>\n",
       "      <td>[{'english_name': 'English', 'iso_639_1': 'en'...</td>\n",
       "      <td>Released</td>\n",
       "      <td>Try to remember the first time magic happened</td>\n",
       "      <td>The Fantasticks</td>\n",
       "      <td>0.0</td>\n",
       "      <td>5.5</td>\n",
       "      <td>22.0</td>\n",
       "      <td>NaN</td>\n",
       "    </tr>\n",
       "    <tr>\n",
       "      <th>2</th>\n",
       "      <td>tt0113092</td>\n",
       "      <td>0.0</td>\n",
       "      <td>NaN</td>\n",
       "      <td>NaN</td>\n",
       "      <td>0.0</td>\n",
       "      <td>[{'id': 878, 'name': 'Science Fiction'}]</td>\n",
       "      <td>NaN</td>\n",
       "      <td>110977.0</td>\n",
       "      <td>en</td>\n",
       "      <td>For the Cause</td>\n",
       "      <td>...</td>\n",
       "      <td>0.0</td>\n",
       "      <td>100.0</td>\n",
       "      <td>[{'english_name': 'English', 'iso_639_1': 'en'...</td>\n",
       "      <td>Released</td>\n",
       "      <td>The ultimate showdown on a forbidden planet.</td>\n",
       "      <td>For the Cause</td>\n",
       "      <td>0.0</td>\n",
       "      <td>5.1</td>\n",
       "      <td>8.0</td>\n",
       "      <td>NaN</td>\n",
       "    </tr>\n",
       "    <tr>\n",
       "      <th>3</th>\n",
       "      <td>tt0116391</td>\n",
       "      <td>0.0</td>\n",
       "      <td>NaN</td>\n",
       "      <td>NaN</td>\n",
       "      <td>0.0</td>\n",
       "      <td>[{'id': 18, 'name': 'Drama'}, {'id': 28, 'name...</td>\n",
       "      <td>NaN</td>\n",
       "      <td>442869.0</td>\n",
       "      <td>hi</td>\n",
       "      <td>Gang</td>\n",
       "      <td>...</td>\n",
       "      <td>0.0</td>\n",
       "      <td>152.0</td>\n",
       "      <td>[{'english_name': 'Hindi', 'iso_639_1': 'hi', ...</td>\n",
       "      <td>Released</td>\n",
       "      <td>NaN</td>\n",
       "      <td>Gang</td>\n",
       "      <td>0.0</td>\n",
       "      <td>0.0</td>\n",
       "      <td>0.0</td>\n",
       "      <td>NaN</td>\n",
       "    </tr>\n",
       "    <tr>\n",
       "      <th>4</th>\n",
       "      <td>tt0116748</td>\n",
       "      <td>0.0</td>\n",
       "      <td>NaN</td>\n",
       "      <td>NaN</td>\n",
       "      <td>0.0</td>\n",
       "      <td>[{'id': 18, 'name': 'Drama'}, {'id': 10749, 'n...</td>\n",
       "      <td>NaN</td>\n",
       "      <td>579396.0</td>\n",
       "      <td>hi</td>\n",
       "      <td>Karobaar</td>\n",
       "      <td>...</td>\n",
       "      <td>0.0</td>\n",
       "      <td>180.0</td>\n",
       "      <td>[{'english_name': 'Hindi', 'iso_639_1': 'hi', ...</td>\n",
       "      <td>Released</td>\n",
       "      <td>The Business of Love</td>\n",
       "      <td>Karobaar</td>\n",
       "      <td>0.0</td>\n",
       "      <td>5.5</td>\n",
       "      <td>2.0</td>\n",
       "      <td>NaN</td>\n",
       "    </tr>\n",
       "  </tbody>\n",
       "</table>\n",
       "<p>5 rows × 26 columns</p>\n",
       "</div>"
      ],
      "text/plain": [
       "     imdb_id  adult                     backdrop_path belongs_to_collection  \\\n",
       "0          0    NaN                               NaN                   NaN   \n",
       "1  tt0113026    0.0  /vMFs7nw6P0bIV1jDsQpxAieAVnH.jpg                   NaN   \n",
       "2  tt0113092    0.0                               NaN                   NaN   \n",
       "3  tt0116391    0.0                               NaN                   NaN   \n",
       "4  tt0116748    0.0                               NaN                   NaN   \n",
       "\n",
       "       budget                                             genres homepage  \\\n",
       "0         NaN                                                NaN      NaN   \n",
       "1  10000000.0  [{'id': 35, 'name': 'Comedy'}, {'id': 10402, '...      NaN   \n",
       "2         0.0           [{'id': 878, 'name': 'Science Fiction'}]      NaN   \n",
       "3         0.0  [{'id': 18, 'name': 'Drama'}, {'id': 28, 'name...      NaN   \n",
       "4         0.0  [{'id': 18, 'name': 'Drama'}, {'id': 10749, 'n...      NaN   \n",
       "\n",
       "         id original_language   original_title  ... revenue  runtime  \\\n",
       "0       NaN               NaN              NaN  ...     NaN      NaN   \n",
       "1   62127.0                en  The Fantasticks  ...     0.0     86.0   \n",
       "2  110977.0                en    For the Cause  ...     0.0    100.0   \n",
       "3  442869.0                hi             Gang  ...     0.0    152.0   \n",
       "4  579396.0                hi         Karobaar  ...     0.0    180.0   \n",
       "\n",
       "                                    spoken_languages    status  \\\n",
       "0                                                NaN       NaN   \n",
       "1  [{'english_name': 'English', 'iso_639_1': 'en'...  Released   \n",
       "2  [{'english_name': 'English', 'iso_639_1': 'en'...  Released   \n",
       "3  [{'english_name': 'Hindi', 'iso_639_1': 'hi', ...  Released   \n",
       "4  [{'english_name': 'Hindi', 'iso_639_1': 'hi', ...  Released   \n",
       "\n",
       "                                         tagline            title  video  \\\n",
       "0                                            NaN              NaN    NaN   \n",
       "1  Try to remember the first time magic happened  The Fantasticks    0.0   \n",
       "2   The ultimate showdown on a forbidden planet.    For the Cause    0.0   \n",
       "3                                            NaN             Gang    0.0   \n",
       "4                           The Business of Love         Karobaar    0.0   \n",
       "\n",
       "   vote_average vote_count certification  \n",
       "0           NaN        NaN           NaN  \n",
       "1           5.5       22.0           NaN  \n",
       "2           5.1        8.0           NaN  \n",
       "3           0.0        0.0           NaN  \n",
       "4           5.5        2.0           NaN  \n",
       "\n",
       "[5 rows x 26 columns]"
      ]
     },
     "execution_count": 60,
     "metadata": {},
     "output_type": "execute_result"
    }
   ],
   "source": [
    "tmdb_data_2000.head()"
   ]
  },
  {
   "cell_type": "code",
   "execution_count": 61,
   "id": "5a8b0f35",
   "metadata": {},
   "outputs": [
    {
     "name": "stdout",
     "output_type": "stream",
     "text": [
      "<class 'pandas.core.frame.DataFrame'>\n",
      "RangeIndex: 2186 entries, 0 to 2185\n",
      "Data columns (total 26 columns):\n",
      " #   Column                 Non-Null Count  Dtype  \n",
      "---  ------                 --------------  -----  \n",
      " 0   imdb_id                2186 non-null   object \n",
      " 1   adult                  2185 non-null   float64\n",
      " 2   backdrop_path          952 non-null    object \n",
      " 3   belongs_to_collection  131 non-null    object \n",
      " 4   budget                 2185 non-null   float64\n",
      " 5   genres                 2185 non-null   object \n",
      " 6   homepage               87 non-null     object \n",
      " 7   id                     2185 non-null   float64\n",
      " 8   original_language      2185 non-null   object \n",
      " 9   original_title         2185 non-null   object \n",
      " 10  overview               1984 non-null   object \n",
      " 11  popularity             2185 non-null   float64\n",
      " 12  poster_path            1830 non-null   object \n",
      " 13  production_companies   2185 non-null   object \n",
      " 14  production_countries   2185 non-null   object \n",
      " 15  release_date           2163 non-null   object \n",
      " 16  revenue                2185 non-null   float64\n",
      " 17  runtime                2185 non-null   float64\n",
      " 18  spoken_languages       2185 non-null   object \n",
      " 19  status                 2185 non-null   object \n",
      " 20  tagline                612 non-null    object \n",
      " 21  title                  2185 non-null   object \n",
      " 22  video                  2185 non-null   float64\n",
      " 23  vote_average           2185 non-null   float64\n",
      " 24  vote_count             2185 non-null   float64\n",
      " 25  certification          385 non-null    object \n",
      "dtypes: float64(9), object(17)\n",
      "memory usage: 444.2+ KB\n"
     ]
    }
   ],
   "source": [
    "tmdb_data_2000.info()"
   ]
  },
  {
   "cell_type": "code",
   "execution_count": 62,
   "id": "9f8a385c",
   "metadata": {},
   "outputs": [
    {
     "name": "stdout",
     "output_type": "stream",
     "text": [
      "<class 'pandas.core.frame.DataFrame'>\n",
      "Int64Index: 4439 entries, 0 to 2252\n",
      "Data columns (total 26 columns):\n",
      " #   Column                 Non-Null Count  Dtype  \n",
      "---  ------                 --------------  -----  \n",
      " 0   imdb_id                4439 non-null   object \n",
      " 1   adult                  4437 non-null   float64\n",
      " 2   backdrop_path          1908 non-null   object \n",
      " 3   belongs_to_collection  248 non-null    object \n",
      " 4   budget                 4437 non-null   float64\n",
      " 5   genres                 4437 non-null   object \n",
      " 6   homepage               229 non-null    object \n",
      " 7   id                     4437 non-null   float64\n",
      " 8   original_language      4437 non-null   object \n",
      " 9   original_title         4437 non-null   object \n",
      " 10  overview               4069 non-null   object \n",
      " 11  popularity             4437 non-null   float64\n",
      " 12  poster_path            3721 non-null   object \n",
      " 13  production_companies   4437 non-null   object \n",
      " 14  production_countries   4437 non-null   object \n",
      " 15  release_date           4394 non-null   object \n",
      " 16  revenue                4437 non-null   float64\n",
      " 17  runtime                4437 non-null   float64\n",
      " 18  spoken_languages       4437 non-null   object \n",
      " 19  status                 4437 non-null   object \n",
      " 20  tagline                1228 non-null   object \n",
      " 21  title                  4437 non-null   object \n",
      " 22  video                  4437 non-null   float64\n",
      " 23  vote_average           4437 non-null   float64\n",
      " 24  vote_count             4437 non-null   float64\n",
      " 25  certification          816 non-null    object \n",
      "dtypes: float64(9), object(17)\n",
      "memory usage: 936.4+ KB\n"
     ]
    }
   ],
   "source": [
    "test_df = [tmdb_data_2000, tmdb_data_2001]\n",
    "df = pd.concat(test_df)\n",
    "\n",
    "df.info()"
   ]
  },
  {
   "cell_type": "code",
   "execution_count": 63,
   "id": "bde72c05",
   "metadata": {},
   "outputs": [],
   "source": [
    "df.to_csv(\"Data/tmdb_results_combined.csv.gz\", compression=\"gzip\", index=False)"
   ]
  },
  {
   "cell_type": "code",
   "execution_count": 64,
   "id": "55ff70b8",
   "metadata": {},
   "outputs": [
    {
     "data": {
      "text/html": [
       "<div>\n",
       "<style scoped>\n",
       "    .dataframe tbody tr th:only-of-type {\n",
       "        vertical-align: middle;\n",
       "    }\n",
       "\n",
       "    .dataframe tbody tr th {\n",
       "        vertical-align: top;\n",
       "    }\n",
       "\n",
       "    .dataframe thead th {\n",
       "        text-align: right;\n",
       "    }\n",
       "</style>\n",
       "<table border=\"1\" class=\"dataframe\">\n",
       "  <thead>\n",
       "    <tr style=\"text-align: right;\">\n",
       "      <th></th>\n",
       "      <th>title</th>\n",
       "      <th>budget</th>\n",
       "      <th>revenue</th>\n",
       "    </tr>\n",
       "  </thead>\n",
       "  <tbody>\n",
       "    <tr>\n",
       "      <th>1</th>\n",
       "      <td>The Fantasticks</td>\n",
       "      <td>10000000.0</td>\n",
       "      <td>0.0</td>\n",
       "    </tr>\n",
       "    <tr>\n",
       "      <th>2</th>\n",
       "      <td>For the Cause</td>\n",
       "      <td>0.0</td>\n",
       "      <td>0.0</td>\n",
       "    </tr>\n",
       "    <tr>\n",
       "      <th>3</th>\n",
       "      <td>Gang</td>\n",
       "      <td>0.0</td>\n",
       "      <td>0.0</td>\n",
       "    </tr>\n",
       "    <tr>\n",
       "      <th>4</th>\n",
       "      <td>Karobaar</td>\n",
       "      <td>0.0</td>\n",
       "      <td>0.0</td>\n",
       "    </tr>\n",
       "    <tr>\n",
       "      <th>5</th>\n",
       "      <td>In the Mood for Love</td>\n",
       "      <td>150000.0</td>\n",
       "      <td>12854953.0</td>\n",
       "    </tr>\n",
       "    <tr>\n",
       "      <th>...</th>\n",
       "      <td>...</td>\n",
       "      <td>...</td>\n",
       "      <td>...</td>\n",
       "    </tr>\n",
       "    <tr>\n",
       "      <th>2126</th>\n",
       "      <td>Citizen</td>\n",
       "      <td>500000.0</td>\n",
       "      <td>500000.0</td>\n",
       "    </tr>\n",
       "    <tr>\n",
       "      <th>2154</th>\n",
       "      <td>Instant Karma</td>\n",
       "      <td>114263.0</td>\n",
       "      <td>0.0</td>\n",
       "    </tr>\n",
       "    <tr>\n",
       "      <th>2206</th>\n",
       "      <td>Toaster</td>\n",
       "      <td>2000.0</td>\n",
       "      <td>0.0</td>\n",
       "    </tr>\n",
       "    <tr>\n",
       "      <th>2226</th>\n",
       "      <td>Mi crimen al desnudo</td>\n",
       "      <td>11.0</td>\n",
       "      <td>0.0</td>\n",
       "    </tr>\n",
       "    <tr>\n",
       "      <th>2231</th>\n",
       "      <td>Barricades</td>\n",
       "      <td>50000.0</td>\n",
       "      <td>0.0</td>\n",
       "    </tr>\n",
       "  </tbody>\n",
       "</table>\n",
       "<p>686 rows × 3 columns</p>\n",
       "</div>"
      ],
      "text/plain": [
       "                     title      budget     revenue\n",
       "1          The Fantasticks  10000000.0         0.0\n",
       "2            For the Cause         0.0         0.0\n",
       "3                     Gang         0.0         0.0\n",
       "4                 Karobaar         0.0         0.0\n",
       "5     In the Mood for Love    150000.0  12854953.0\n",
       "...                    ...         ...         ...\n",
       "2126               Citizen    500000.0    500000.0\n",
       "2154         Instant Karma    114263.0         0.0\n",
       "2206               Toaster      2000.0         0.0\n",
       "2226  Mi crimen al desnudo        11.0         0.0\n",
       "2231            Barricades     50000.0         0.0\n",
       "\n",
       "[686 rows x 3 columns]"
      ]
     },
     "execution_count": 64,
     "metadata": {},
     "output_type": "execute_result"
    }
   ],
   "source": [
    "valid_financials = df[['title', 'budget', 'revenue']]\n",
    "\n",
    "valid_financials_filtered = valid_financials.groupby(['budget', 'revenue'])\n",
    "\n",
    "valid_financials_filtered.head()"
   ]
  },
  {
   "cell_type": "code",
   "execution_count": 65,
   "id": "723bf7ed",
   "metadata": {},
   "outputs": [],
   "source": [
    "budget_filter = df['budget'] > 0\n",
    "revenue_filter = df['revenue'] >0"
   ]
  },
  {
   "cell_type": "code",
   "execution_count": 66,
   "id": "14c10f9b",
   "metadata": {
    "scrolled": true
   },
   "outputs": [
    {
     "data": {
      "text/html": [
       "<div>\n",
       "<style scoped>\n",
       "    .dataframe tbody tr th:only-of-type {\n",
       "        vertical-align: middle;\n",
       "    }\n",
       "\n",
       "    .dataframe tbody tr th {\n",
       "        vertical-align: top;\n",
       "    }\n",
       "\n",
       "    .dataframe thead th {\n",
       "        text-align: right;\n",
       "    }\n",
       "</style>\n",
       "<table border=\"1\" class=\"dataframe\">\n",
       "  <thead>\n",
       "    <tr style=\"text-align: right;\">\n",
       "      <th></th>\n",
       "      <th>imdb_id</th>\n",
       "      <th>adult</th>\n",
       "      <th>backdrop_path</th>\n",
       "      <th>belongs_to_collection</th>\n",
       "      <th>budget</th>\n",
       "      <th>genres</th>\n",
       "      <th>homepage</th>\n",
       "      <th>id</th>\n",
       "      <th>original_language</th>\n",
       "      <th>original_title</th>\n",
       "      <th>...</th>\n",
       "      <th>revenue</th>\n",
       "      <th>runtime</th>\n",
       "      <th>spoken_languages</th>\n",
       "      <th>status</th>\n",
       "      <th>tagline</th>\n",
       "      <th>title</th>\n",
       "      <th>video</th>\n",
       "      <th>vote_average</th>\n",
       "      <th>vote_count</th>\n",
       "      <th>certification</th>\n",
       "    </tr>\n",
       "  </thead>\n",
       "  <tbody>\n",
       "    <tr>\n",
       "      <th>1</th>\n",
       "      <td>tt0113026</td>\n",
       "      <td>0.0</td>\n",
       "      <td>/vMFs7nw6P0bIV1jDsQpxAieAVnH.jpg</td>\n",
       "      <td>NaN</td>\n",
       "      <td>10000000.0</td>\n",
       "      <td>[{'id': 35, 'name': 'Comedy'}, {'id': 10402, '...</td>\n",
       "      <td>NaN</td>\n",
       "      <td>62127.0</td>\n",
       "      <td>en</td>\n",
       "      <td>The Fantasticks</td>\n",
       "      <td>...</td>\n",
       "      <td>0.0</td>\n",
       "      <td>86.0</td>\n",
       "      <td>[{'english_name': 'English', 'iso_639_1': 'en'...</td>\n",
       "      <td>Released</td>\n",
       "      <td>Try to remember the first time magic happened</td>\n",
       "      <td>The Fantasticks</td>\n",
       "      <td>0.0</td>\n",
       "      <td>5.500</td>\n",
       "      <td>22.0</td>\n",
       "      <td>NaN</td>\n",
       "    </tr>\n",
       "    <tr>\n",
       "      <th>5</th>\n",
       "      <td>tt0118694</td>\n",
       "      <td>0.0</td>\n",
       "      <td>/n4GJFGzsc7NinI1VeGDXIcQjtU2.jpg</td>\n",
       "      <td>NaN</td>\n",
       "      <td>150000.0</td>\n",
       "      <td>[{'id': 18, 'name': 'Drama'}, {'id': 10749, 'n...</td>\n",
       "      <td>http://www.wkw-inthemoodforlove.com/</td>\n",
       "      <td>843.0</td>\n",
       "      <td>cn</td>\n",
       "      <td>花樣年華</td>\n",
       "      <td>...</td>\n",
       "      <td>12854953.0</td>\n",
       "      <td>99.0</td>\n",
       "      <td>[{'english_name': 'Cantonese', 'iso_639_1': 'c...</td>\n",
       "      <td>Released</td>\n",
       "      <td>Feel the heat, keep the feeling burning, let t...</td>\n",
       "      <td>In the Mood for Love</td>\n",
       "      <td>0.0</td>\n",
       "      <td>8.105</td>\n",
       "      <td>1950.0</td>\n",
       "      <td>PG</td>\n",
       "    </tr>\n",
       "    <tr>\n",
       "      <th>7</th>\n",
       "      <td>tt0119273</td>\n",
       "      <td>0.0</td>\n",
       "      <td>/fClJrAmJQ90zg9gWnfHVYSMiDTv.jpg</td>\n",
       "      <td>{'id': 141086, 'name': 'Heavy Metal Collection...</td>\n",
       "      <td>15000000.0</td>\n",
       "      <td>[{'id': 28, 'name': 'Action'}, {'id': 12, 'nam...</td>\n",
       "      <td>NaN</td>\n",
       "      <td>16225.0</td>\n",
       "      <td>en</td>\n",
       "      <td>Heavy Metal 2000</td>\n",
       "      <td>...</td>\n",
       "      <td>0.0</td>\n",
       "      <td>88.0</td>\n",
       "      <td>[{'english_name': 'English', 'iso_639_1': 'en'...</td>\n",
       "      <td>Released</td>\n",
       "      <td>not to survive the fight in the external world...</td>\n",
       "      <td>Heavy Metal 2000</td>\n",
       "      <td>0.0</td>\n",
       "      <td>6.068</td>\n",
       "      <td>155.0</td>\n",
       "      <td>R</td>\n",
       "    </tr>\n",
       "    <tr>\n",
       "      <th>13</th>\n",
       "      <td>tt0120263</td>\n",
       "      <td>0.0</td>\n",
       "      <td>/ynXVuylP8upazjz8lrqb1PEMkdR.jpg</td>\n",
       "      <td>NaN</td>\n",
       "      <td>0.0</td>\n",
       "      <td>[{'id': 18, 'name': 'Drama'}, {'id': 35, 'name...</td>\n",
       "      <td>NaN</td>\n",
       "      <td>34070.0</td>\n",
       "      <td>sv</td>\n",
       "      <td>Sånger från andra våningen</td>\n",
       "      <td>...</td>\n",
       "      <td>80334.0</td>\n",
       "      <td>98.0</td>\n",
       "      <td>[{'english_name': 'Russian', 'iso_639_1': 'ru'...</td>\n",
       "      <td>Released</td>\n",
       "      <td>NaN</td>\n",
       "      <td>Songs from the Second Floor</td>\n",
       "      <td>0.0</td>\n",
       "      <td>7.242</td>\n",
       "      <td>215.0</td>\n",
       "      <td>NaN</td>\n",
       "    </tr>\n",
       "    <tr>\n",
       "      <th>14</th>\n",
       "      <td>tt0120467</td>\n",
       "      <td>0.0</td>\n",
       "      <td>/knok3mNReKqPTplnnqz7E4dd7mD.jpg</td>\n",
       "      <td>NaN</td>\n",
       "      <td>120000.0</td>\n",
       "      <td>[{'id': 18, 'name': 'Drama'}, {'id': 27, 'name...</td>\n",
       "      <td>NaN</td>\n",
       "      <td>19085.0</td>\n",
       "      <td>en</td>\n",
       "      <td>Vulgar</td>\n",
       "      <td>...</td>\n",
       "      <td>14904.0</td>\n",
       "      <td>87.0</td>\n",
       "      <td>[{'english_name': 'English', 'iso_639_1': 'en'...</td>\n",
       "      <td>Released</td>\n",
       "      <td>Everyone loves a clown... some more than others.</td>\n",
       "      <td>Vulgar</td>\n",
       "      <td>0.0</td>\n",
       "      <td>5.400</td>\n",
       "      <td>42.0</td>\n",
       "      <td>R</td>\n",
       "    </tr>\n",
       "  </tbody>\n",
       "</table>\n",
       "<p>5 rows × 26 columns</p>\n",
       "</div>"
      ],
      "text/plain": [
       "      imdb_id  adult                     backdrop_path  \\\n",
       "1   tt0113026    0.0  /vMFs7nw6P0bIV1jDsQpxAieAVnH.jpg   \n",
       "5   tt0118694    0.0  /n4GJFGzsc7NinI1VeGDXIcQjtU2.jpg   \n",
       "7   tt0119273    0.0  /fClJrAmJQ90zg9gWnfHVYSMiDTv.jpg   \n",
       "13  tt0120263    0.0  /ynXVuylP8upazjz8lrqb1PEMkdR.jpg   \n",
       "14  tt0120467    0.0  /knok3mNReKqPTplnnqz7E4dd7mD.jpg   \n",
       "\n",
       "                                belongs_to_collection      budget  \\\n",
       "1                                                 NaN  10000000.0   \n",
       "5                                                 NaN    150000.0   \n",
       "7   {'id': 141086, 'name': 'Heavy Metal Collection...  15000000.0   \n",
       "13                                                NaN         0.0   \n",
       "14                                                NaN    120000.0   \n",
       "\n",
       "                                               genres  \\\n",
       "1   [{'id': 35, 'name': 'Comedy'}, {'id': 10402, '...   \n",
       "5   [{'id': 18, 'name': 'Drama'}, {'id': 10749, 'n...   \n",
       "7   [{'id': 28, 'name': 'Action'}, {'id': 12, 'nam...   \n",
       "13  [{'id': 18, 'name': 'Drama'}, {'id': 35, 'name...   \n",
       "14  [{'id': 18, 'name': 'Drama'}, {'id': 27, 'name...   \n",
       "\n",
       "                                homepage       id original_language  \\\n",
       "1                                    NaN  62127.0                en   \n",
       "5   http://www.wkw-inthemoodforlove.com/    843.0                cn   \n",
       "7                                    NaN  16225.0                en   \n",
       "13                                   NaN  34070.0                sv   \n",
       "14                                   NaN  19085.0                en   \n",
       "\n",
       "                original_title  ...     revenue  runtime  \\\n",
       "1              The Fantasticks  ...         0.0     86.0   \n",
       "5                         花樣年華  ...  12854953.0     99.0   \n",
       "7             Heavy Metal 2000  ...         0.0     88.0   \n",
       "13  Sånger från andra våningen  ...     80334.0     98.0   \n",
       "14                      Vulgar  ...     14904.0     87.0   \n",
       "\n",
       "                                     spoken_languages    status  \\\n",
       "1   [{'english_name': 'English', 'iso_639_1': 'en'...  Released   \n",
       "5   [{'english_name': 'Cantonese', 'iso_639_1': 'c...  Released   \n",
       "7   [{'english_name': 'English', 'iso_639_1': 'en'...  Released   \n",
       "13  [{'english_name': 'Russian', 'iso_639_1': 'ru'...  Released   \n",
       "14  [{'english_name': 'English', 'iso_639_1': 'en'...  Released   \n",
       "\n",
       "                                              tagline  \\\n",
       "1       Try to remember the first time magic happened   \n",
       "5   Feel the heat, keep the feeling burning, let t...   \n",
       "7   not to survive the fight in the external world...   \n",
       "13                                                NaN   \n",
       "14   Everyone loves a clown... some more than others.   \n",
       "\n",
       "                          title  video  vote_average vote_count certification  \n",
       "1               The Fantasticks    0.0         5.500       22.0           NaN  \n",
       "5          In the Mood for Love    0.0         8.105     1950.0            PG  \n",
       "7              Heavy Metal 2000    0.0         6.068      155.0             R  \n",
       "13  Songs from the Second Floor    0.0         7.242      215.0           NaN  \n",
       "14                       Vulgar    0.0         5.400       42.0             R  \n",
       "\n",
       "[5 rows x 26 columns]"
      ]
     },
     "execution_count": 66,
     "metadata": {},
     "output_type": "execute_result"
    }
   ],
   "source": [
    "valid_financials = df.loc[budget_filter | revenue_filter, :]\n",
    "valid_financials.head()"
   ]
  },
  {
   "cell_type": "code",
   "execution_count": 67,
   "id": "4883fa73",
   "metadata": {
    "scrolled": true
   },
   "outputs": [
    {
     "name": "stdout",
     "output_type": "stream",
     "text": [
      "<class 'pandas.core.frame.DataFrame'>\n",
      "Int64Index: 716 entries, 1 to 2231\n",
      "Data columns (total 26 columns):\n",
      " #   Column                 Non-Null Count  Dtype  \n",
      "---  ------                 --------------  -----  \n",
      " 0   imdb_id                716 non-null    object \n",
      " 1   adult                  716 non-null    float64\n",
      " 2   backdrop_path          567 non-null    object \n",
      " 3   belongs_to_collection  109 non-null    object \n",
      " 4   budget                 716 non-null    float64\n",
      " 5   genres                 716 non-null    object \n",
      " 6   homepage               84 non-null     object \n",
      " 7   id                     716 non-null    float64\n",
      " 8   original_language      716 non-null    object \n",
      " 9   original_title         716 non-null    object \n",
      " 10  overview               698 non-null    object \n",
      " 11  popularity             716 non-null    float64\n",
      " 12  poster_path            684 non-null    object \n",
      " 13  production_companies   716 non-null    object \n",
      " 14  production_countries   716 non-null    object \n",
      " 15  release_date           715 non-null    object \n",
      " 16  revenue                716 non-null    float64\n",
      " 17  runtime                716 non-null    float64\n",
      " 18  spoken_languages       716 non-null    object \n",
      " 19  status                 716 non-null    object \n",
      " 20  tagline                501 non-null    object \n",
      " 21  title                  716 non-null    object \n",
      " 22  video                  716 non-null    float64\n",
      " 23  vote_average           716 non-null    float64\n",
      " 24  vote_count             716 non-null    float64\n",
      " 25  certification          428 non-null    object \n",
      "dtypes: float64(9), object(17)\n",
      "memory usage: 151.0+ KB\n"
     ]
    }
   ],
   "source": [
    "valid_financials.info()"
   ]
  },
  {
   "cell_type": "markdown",
   "id": "194a7cc7",
   "metadata": {},
   "source": [
    "Valid financials contains only movies with a positive budget or revenue column.\n",
    "here I'm counting the total sum of unique imdb ids to get a total."
   ]
  },
  {
   "cell_type": "code",
   "execution_count": 68,
   "id": "d2312d14",
   "metadata": {},
   "outputs": [
    {
     "data": {
      "text/plain": [
       "716"
      ]
     },
     "execution_count": 68,
     "metadata": {},
     "output_type": "execute_result"
    }
   ],
   "source": [
    "valid_financials['imdb_id'].value_counts().sum()"
   ]
  },
  {
   "cell_type": "code",
   "execution_count": 83,
   "id": "1ae33eb6",
   "metadata": {},
   "outputs": [
    {
     "data": {
      "text/plain": [
       "Text(0, 0.5, 'Count')"
      ]
     },
     "execution_count": 83,
     "metadata": {},
     "output_type": "execute_result"
    },
    {
     "data": {
      "image/png": "[encoded data removed]",
      "text/plain": [
       "<Figure size 432x288 with 1 Axes>"
      ]
     },
     "metadata": {
      "needs_background": "light"
     },
     "output_type": "display_data"
    }
   ],
   "source": [
    "fig, ax = plt.subplots()\n",
    "valid_financials['budget'].hist(alpha =0.5)\n",
    "valid_financials['revenue'].hist(alpha = 0.5)\n",
    "ax.set_xlabel(\"Amount budget or revenue in $\")\n",
    "ax.set_ylabel(\"Count\")"
   ]
  },
  {
   "cell_type": "code",
   "execution_count": 70,
   "id": "e064bba9",
   "metadata": {
    "scrolled": true
   },
   "outputs": [
    {
     "data": {
      "text/plain": [
       "R        229\n",
       "PG-13    131\n",
       "PG        35\n",
       "NR        17\n",
       "G         15\n",
       "NC-17      1\n",
       "Name: certification, dtype: int64"
      ]
     },
     "execution_count": 70,
     "metadata": {},
     "output_type": "execute_result"
    }
   ],
   "source": [
    "financials_amounts = valid_financials['certification'].value_counts()\n",
    "financials_amounts"
   ]
  },
  {
   "cell_type": "code",
   "execution_count": 80,
   "id": "ebaae674",
   "metadata": {},
   "outputs": [
    {
     "data": {
      "text/plain": [
       "Text(0, 0.5, 'Count')"
      ]
     },
     "execution_count": 80,
     "metadata": {},
     "output_type": "execute_result"
    },
    {
     "data": {
      "image/png": "[encoded data removed]",
      "text/plain": [
       "<Figure size 432x288 with 1 Axes>"
      ]
     },
     "metadata": {
      "needs_background": "light"
     },
     "output_type": "display_data"
    }
   ],
   "source": [
    "fig, ax = plt.subplots()\n",
    "valid_financials['certification'].hist(bins = 6)\n",
    "ax.set_xlabel(\"Rating\")\n",
    "ax.set_ylabel(\"Count\")"
   ]
  },
  {
   "cell_type": "code",
   "execution_count": 72,
   "id": "83fd1974",
   "metadata": {},
   "outputs": [
    {
     "name": "stdout",
     "output_type": "stream",
     "text": [
      "33116060.52838428\n",
      "20123790.152838428\n"
     ]
    }
   ],
   "source": [
    "valid_financials_R = valid_financials['certification'] == 'R'\n",
    "\n",
    "new_df = valid_financials.loc[valid_financials_R]\n",
    "\n",
    "avg_rev = new_df['revenue'].mean()\n",
    "\n",
    "print(avg_rev)\n",
    "\n",
    "avg_budget = new_df['budget'].mean()\n",
    "\n",
    "print(avg_budget)"
   ]
  },
  {
   "cell_type": "code",
   "execution_count": 73,
   "id": "1069aeaf",
   "metadata": {},
   "outputs": [
    {
     "name": "stdout",
     "output_type": "stream",
     "text": [
      "98939768.09160306\n",
      "43155785.70229007\n"
     ]
    }
   ],
   "source": [
    "valid_financials_PG_13 = valid_financials['certification'] == 'PG-13'\n",
    "\n",
    "\n",
    "new_df2 = valid_financials.loc[valid_financials_PG_13]\n",
    "\n",
    "avg_rev = new_df2['revenue'].mean()\n",
    "\n",
    "print(avg_rev)\n",
    "\n",
    "avg_budget = new_df2['budget'].mean()\n",
    "\n",
    "print(avg_budget)"
   ]
  },
  {
   "cell_type": "code",
   "execution_count": 74,
   "id": "bf48296a",
   "metadata": {},
   "outputs": [
    {
     "name": "stdout",
     "output_type": "stream",
     "text": [
      "112337845.05714285\n",
      "44978571.68571428\n"
     ]
    }
   ],
   "source": [
    "valid_financials_PG = valid_financials['certification'] == 'PG'\n",
    "\n",
    "\n",
    "new_df3 = valid_financials.loc[valid_financials_PG]\n",
    "\n",
    "avg_rev = new_df3['revenue'].mean()\n",
    "\n",
    "print(avg_rev)\n",
    "\n",
    "avg_budget = new_df3['budget'].mean()\n",
    "\n",
    "print(avg_budget)"
   ]
  },
  {
   "cell_type": "code",
   "execution_count": 75,
   "id": "5edec970",
   "metadata": {},
   "outputs": [
    {
     "name": "stdout",
     "output_type": "stream",
     "text": [
      "8887618.88235294\n",
      "6300005.529411765\n"
     ]
    }
   ],
   "source": [
    "valid_financials_NR = valid_financials['certification'] == 'NR'\n",
    "\n",
    "\n",
    "new_df4 = valid_financials.loc[valid_financials_NR]\n",
    "\n",
    "avg_rev = new_df4['revenue'].mean()\n",
    "\n",
    "print(avg_rev)\n",
    "\n",
    "avg_budget = new_df4['budget'].mean()\n",
    "\n",
    "print(avg_budget)"
   ]
  },
  {
   "cell_type": "code",
   "execution_count": 76,
   "id": "6fe86c23",
   "metadata": {},
   "outputs": [
    {
     "name": "stdout",
     "output_type": "stream",
     "text": [
      "115461310.93333334\n",
      "38223578.4\n"
     ]
    }
   ],
   "source": [
    "valid_financials_G = valid_financials['certification'] == 'G'\n",
    "\n",
    "\n",
    "new_df5 = valid_financials.loc[valid_financials_G]\n",
    "\n",
    "avg_rev = new_df5['revenue'].mean()\n",
    "\n",
    "print(avg_rev)\n",
    "\n",
    "avg_budget = new_df5['budget'].mean()\n",
    "\n",
    "print(avg_budget)"
   ]
  },
  {
   "cell_type": "code",
   "execution_count": 77,
   "id": "4a1e7d25",
   "metadata": {},
   "outputs": [
    {
     "name": "stdout",
     "output_type": "stream",
     "text": [
      "11678.0\n",
      "0.0\n"
     ]
    }
   ],
   "source": [
    "valid_financials_NC_17 = valid_financials['certification'] == 'NC-17'\n",
    "\n",
    "new_df6 = valid_financials.loc[valid_financials_NC_17]\n",
    "\n",
    "avg_rev = new_df6['revenue'].mean()\n",
    "\n",
    "print(avg_rev)\n",
    "\n",
    "avg_budget = new_df6['budget'].mean()\n",
    "\n",
    "print(avg_budget)"
   ]
  },
  {
   "cell_type": "code",
   "execution_count": 81,
   "id": "ee2e19ca",
   "metadata": {},
   "outputs": [
    {
     "data": {
      "text/plain": [
       "Text(0, 0.5, 'Count')"
      ]
     },
     "execution_count": 81,
     "metadata": {},
     "output_type": "execute_result"
    },
    {
     "data": {
      "image/png": "[encoded data removed]",
      "text/plain": [
       "<Figure size 432x288 with 1 Axes>"
      ]
     },
     "metadata": {
      "needs_background": "light"
     },
     "output_type": "display_data"
    }
   ],
   "source": [
    "fig, ax = plt.subplots()\n",
    "new_df['revenue'].hist(alpha = 0.5)\n",
    "new_df2['revenue'].hist(alpha = 0.5)\n",
    "new_df3['revenue'].hist(alpha = 0.5)\n",
    "new_df4['revenue'].hist(alpha = 0.5)\n",
    "new_df5['revenue'].hist(alpha = 0.5)\n",
    "new_df6['revenue'].hist(alpha = 0.5)\n",
    "ax.set_xlabel('Revenue in $')\n",
    "ax.set_ylabel(\"Count\")"
   ]
  },
  {
   "cell_type": "code",
   "execution_count": 82,
   "id": "7f85c09a",
   "metadata": {},
   "outputs": [
    {
     "data": {
      "text/plain": [
       "Text(0, 0.5, 'Count')"
      ]
     },
     "execution_count": 82,
     "metadata": {},
     "output_type": "execute_result"
    },
    {
     "data": {
      "image/png": "[encoded data removed]",
      "text/plain": [
       "<Figure size 432x288 with 1 Axes>"
      ]
     },
     "metadata": {
      "needs_background": "light"
     },
     "output_type": "display_data"
    }
   ],
   "source": [
    "fig, ax = plt.subplots()\n",
    "new_df['budget'].hist(alpha = 0.5)\n",
    "new_df2['budget'].hist(alpha = 0.5)\n",
    "new_df3['budget'].hist(alpha = 0.5)\n",
    "new_df4['budget'].hist(alpha = 0.5)\n",
    "new_df5['budget'].hist(alpha = 0.5)\n",
    "new_df6['budget'].hist(alpha = 0.5)\n",
    "ax.set_xlabel('Budget in $')\n",
    "ax.set_ylabel(\"Count\")"
   ]
  },
  {
   "cell_type": "code",
   "execution_count": null,
   "id": "185f698f",
   "metadata": {},
   "outputs": [],
   "source": []
  }
 ],
 "metadata": {
  "kernelspec": {
   "display_name": "Python (dojo-env)",
   "language": "python",
   "name": "dojo-env"
  },
  "language_info": {
   "codemirror_mode": {
    "name": "ipython",
    "version": 3
   },
   "file_extension": ".py",
   "mimetype": "text/x-python",
   "name": "python",
   "nbconvert_exporter": "python",
   "pygments_lexer": "ipython3",
   "version": "3.8.13"
  },
  "toc": {
   "base_numbering": 1,
   "nav_menu": {},
   "number_sections": true,
   "sideBar": true,
   "skip_h1_title": false,
   "title_cell": "Table of Contents",
   "title_sidebar": "Contents",
   "toc_cell": false,
   "toc_position": {},
   "toc_section_display": true,
   "toc_window_display": false
  }
 },
 "nbformat": 4,
 "nbformat_minor": 5
}
